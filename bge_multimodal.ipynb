{
 "cells": [
  {
   "cell_type": "code",
   "id": "initial_id",
   "metadata": {
    "collapsed": true,
    "ExecuteTime": {
     "end_time": "2024-12-29T10:52:53.626363Z",
     "start_time": "2024-12-29T10:52:49.069699Z"
    }
   },
   "source": [
    "from transformers.models.gemma2.configuration_gemma2 import Gemma2Config\n",
    "from transformers.models.siglip import SiglipVisionConfig\n",
    "\n",
    "from bge_gemma2_multimodal import BgeGemma2MultimodalConfig, BgeGemma2MultimodalModel\n",
    "from bge_gemma2_multimodal import BgeGemma2MultimodalProcessor"
   ],
   "outputs": [],
   "execution_count": 1
  },
  {
   "metadata": {
    "ExecuteTime": {
     "end_time": "2024-12-29T10:53:36.326952Z",
     "start_time": "2024-12-29T10:53:35.864238Z"
    }
   },
   "cell_type": "code",
   "source": [
    "text_config = Gemma2Config.from_dict({\n",
    "    \"attention_bias\":          False,\n",
    "    \"attention_dropout\":       0.0,\n",
    "    \"attn_logit_softcapping\":  50.0,\n",
    "    \"bos_token_id\":            2,\n",
    "    \"cache_implementation\":    \"hybrid\",\n",
    "    \"eos_token_id\":            1,\n",
    "    \"final_logit_softcapping\": 30.0,\n",
    "    \"head_dim\":                64,\n",
    "    \"hidden_act\":              \"gelu_pytorch_tanh\",\n",
    "    \"hidden_activation\":       \"gelu_pytorch_tanh\",\n",
    "    \"hidden_size\":             128,\n",
    "    \"initializer_range\":       0.02,\n",
    "    \"intermediate_size\":       128,\n",
    "    \"max_position_embeddings\": 1024,\n",
    "    \"model_type\":              \"gemma2\",\n",
    "    \"num_attention_heads\":     2,\n",
    "    \"num_hidden_layers\":       2,\n",
    "    \"num_key_value_heads\":     2,\n",
    "    \"pad_token_id\":            0,\n",
    "    \"query_pre_attn_scalar\":   64,\n",
    "    \"rms_norm_eps\":            1e-06,\n",
    "    \"rope_theta\":              10000.0,\n",
    "    \"sliding_window\":          256,\n",
    "    \"sliding_window_size\":     256,\n",
    "    \"use_cache\":               False,\n",
    "    \"vocab_size\":              256002\n",
    "    })\n",
    "siglip_model = \"google/siglip-base-patch16-224\"\n",
    "vision_config = SiglipVisionConfig.from_pretrained(siglip_model)"
   ],
   "id": "b8bb12af4360c456",
   "outputs": [],
   "execution_count": 3
  },
  {
   "metadata": {
    "ExecuteTime": {
     "end_time": "2024-12-29T10:53:41.950297Z",
     "start_time": "2024-12-29T10:53:38.365585Z"
    }
   },
   "cell_type": "code",
   "source": [
    "processor = BgeGemma2MultimodalProcessor.from_pretrained(\"bge_gemma2_multimodal_hub_files\")\n",
    "\n",
    "config = BgeGemma2MultimodalConfig(vision_config=vision_config,\n",
    "                                   projection_dim=128,\n",
    "                                   text_config=text_config)\n",
    "model = BgeGemma2MultimodalModel(config)"
   ],
   "id": "43bc3edd79e51ec4",
   "outputs": [],
   "execution_count": 4
  },
  {
   "metadata": {
    "ExecuteTime": {
     "end_time": "2024-12-29T10:53:54.949242Z",
     "start_time": "2024-12-29T10:53:54.942007Z"
    }
   },
   "cell_type": "code",
   "source": "model",
   "id": "6baa4645c3f8101f",
   "outputs": [
    {
     "data": {
      "text/plain": [
       "BgeGemma2MultimodalModel(\n",
       "  (text_model): Gemma2Model(\n",
       "    (embed_tokens): Embedding(256002, 128, padding_idx=0)\n",
       "    (layers): ModuleList(\n",
       "      (0-1): 2 x Gemma2DecoderLayer(\n",
       "        (self_attn): Gemma2Attention(\n",
       "          (q_proj): Linear(in_features=128, out_features=128, bias=False)\n",
       "          (k_proj): Linear(in_features=128, out_features=128, bias=False)\n",
       "          (v_proj): Linear(in_features=128, out_features=128, bias=False)\n",
       "          (o_proj): Linear(in_features=128, out_features=128, bias=False)\n",
       "          (rotary_emb): Gemma2RotaryEmbedding()\n",
       "        )\n",
       "        (mlp): Gemma2MLP(\n",
       "          (gate_proj): Linear(in_features=128, out_features=128, bias=False)\n",
       "          (up_proj): Linear(in_features=128, out_features=128, bias=False)\n",
       "          (down_proj): Linear(in_features=128, out_features=128, bias=False)\n",
       "          (act_fn): PytorchGELUTanh()\n",
       "        )\n",
       "        (input_layernorm): Gemma2RMSNorm((128,), eps=1e-06)\n",
       "        (post_attention_layernorm): Gemma2RMSNorm((128,), eps=1e-06)\n",
       "        (pre_feedforward_layernorm): Gemma2RMSNorm((128,), eps=1e-06)\n",
       "        (post_feedforward_layernorm): Gemma2RMSNorm((128,), eps=1e-06)\n",
       "      )\n",
       "    )\n",
       "    (norm): Gemma2RMSNorm((128,), eps=1e-06)\n",
       "  )\n",
       "  (vision_model): SiglipVisionModel(\n",
       "    (vision_model): SiglipVisionTransformer(\n",
       "      (embeddings): SiglipVisionEmbeddings(\n",
       "        (patch_embedding): Conv2d(3, 768, kernel_size=(16, 16), stride=(16, 16), padding=valid)\n",
       "        (position_embedding): Embedding(196, 768)\n",
       "      )\n",
       "      (encoder): SiglipEncoder(\n",
       "        (layers): ModuleList(\n",
       "          (0-11): 12 x SiglipEncoderLayer(\n",
       "            (self_attn): SiglipSdpaAttention(\n",
       "              (k_proj): Linear(in_features=768, out_features=768, bias=True)\n",
       "              (v_proj): Linear(in_features=768, out_features=768, bias=True)\n",
       "              (q_proj): Linear(in_features=768, out_features=768, bias=True)\n",
       "              (out_proj): Linear(in_features=768, out_features=768, bias=True)\n",
       "            )\n",
       "            (layer_norm1): LayerNorm((768,), eps=1e-06, elementwise_affine=True)\n",
       "            (mlp): SiglipMLP(\n",
       "              (activation_fn): PytorchGELUTanh()\n",
       "              (fc1): Linear(in_features=768, out_features=3072, bias=True)\n",
       "              (fc2): Linear(in_features=3072, out_features=768, bias=True)\n",
       "            )\n",
       "            (layer_norm2): LayerNorm((768,), eps=1e-06, elementwise_affine=True)\n",
       "          )\n",
       "        )\n",
       "      )\n",
       "      (post_layernorm): LayerNorm((768,), eps=1e-06, elementwise_affine=True)\n",
       "      (head): SiglipMultiheadAttentionPoolingHead(\n",
       "        (attention): MultiheadAttention(\n",
       "          (out_proj): NonDynamicallyQuantizableLinear(in_features=768, out_features=768, bias=True)\n",
       "        )\n",
       "        (layernorm): LayerNorm((768,), eps=1e-06, elementwise_affine=True)\n",
       "        (mlp): SiglipMLP(\n",
       "          (activation_fn): PytorchGELUTanh()\n",
       "          (fc1): Linear(in_features=768, out_features=3072, bias=True)\n",
       "          (fc2): Linear(in_features=3072, out_features=768, bias=True)\n",
       "        )\n",
       "      )\n",
       "    )\n",
       "  )\n",
       "  (multi_modal_projector): BgeGemma2MultiModalProjector(\n",
       "    (linear): Linear(in_features=768, out_features=128, bias=True)\n",
       "  )\n",
       ")"
      ]
     },
     "execution_count": 5,
     "metadata": {},
     "output_type": "execute_result"
    }
   ],
   "execution_count": 5
  },
  {
   "metadata": {
    "ExecuteTime": {
     "end_time": "2024-12-29T10:54:21.277236Z",
     "start_time": "2024-12-29T10:54:20.485031Z"
    }
   },
   "cell_type": "code",
   "source": [
    "import requests\n",
    "from PIL import Image\n",
    "\n",
    "url = \"http://images.cocodataset.org/val2017/000000039769.jpg\"\n",
    "image = Image.open(requests.get(url, stream=True).raw)\n",
    "\n",
    "texts = [\"a photo of 2 cats\", \"a photo of 2 dogs\"]\n",
    "inputs = processor(text=texts, images=image, padding=\"max_length\", return_tensors=\"pt\")\n"
   ],
   "id": "f7e9a3ed22c494ad",
   "outputs": [
    {
     "name": "stderr",
     "output_type": "stream",
     "text": [
      "Asking to pad to max_length but no maximum length is provided and the model has no predefined maximum length. Default to no padding.\n"
     ]
    }
   ],
   "execution_count": 6
  },
  {
   "metadata": {
    "ExecuteTime": {
     "end_time": "2024-12-29T10:54:29.274558Z",
     "start_time": "2024-12-29T10:54:29.266018Z"
    }
   },
   "cell_type": "code",
   "source": "inputs",
   "id": "1405d6e762cb2a18",
   "outputs": [
    {
     "data": {
      "text/plain": [
       "{'input_ids': tensor([[     2, 255999, 235250,   2686,    576, 235248, 235284,  19493,      1],\n",
       "        [     2, 255999, 235250,   2686,    576, 235248, 235284,  12075,      1]]), 'attention_mask': tensor([[1, 1, 1, 1, 1, 1, 1, 1, 1],\n",
       "        [1, 1, 1, 1, 1, 1, 1, 1, 1]]), 'pixel_values': tensor([[[[ 0.1137,  0.1686,  0.1922,  ..., -0.1922, -0.1843, -0.1922],\n",
       "          [ 0.1373,  0.1686,  0.1843,  ..., -0.1922, -0.1922, -0.2078],\n",
       "          [ 0.1137,  0.1529,  0.1608,  ..., -0.2392, -0.2235, -0.2078],\n",
       "          ...,\n",
       "          [ 0.8431,  0.7882,  0.7255,  ...,  0.7098,  0.6549,  0.6314],\n",
       "          [ 0.8275,  0.7961,  0.7725,  ...,  0.6157,  0.4902,  0.4196],\n",
       "          [ 0.8275,  0.7569,  0.7647,  ...,  0.0275, -0.1059, -0.2471]],\n",
       "\n",
       "         [[-0.8118, -0.8118, -0.8118,  ..., -0.8902, -0.8902, -0.8980],\n",
       "          [-0.7882, -0.7882, -0.7882,  ..., -0.8824, -0.8745, -0.8824],\n",
       "          [-0.8196, -0.8039, -0.7882,  ..., -0.8980, -0.8902, -0.8902],\n",
       "          ...,\n",
       "          [-0.2627, -0.3255, -0.3725,  ..., -0.4196, -0.4510, -0.4745],\n",
       "          [-0.2627, -0.2863, -0.3412,  ..., -0.4667, -0.5373, -0.5686],\n",
       "          [-0.2784, -0.3412, -0.3490,  ..., -0.7569, -0.8039, -0.8588]],\n",
       "\n",
       "         [[-0.5451, -0.4588, -0.4824,  ..., -0.7412, -0.6941, -0.7098],\n",
       "          [-0.5686, -0.5137, -0.4980,  ..., -0.7412, -0.7098, -0.7412],\n",
       "          [-0.5216, -0.4745, -0.4588,  ..., -0.7490, -0.7569, -0.7647],\n",
       "          ...,\n",
       "          [ 0.5686,  0.5608,  0.4353,  ...,  0.4588,  0.4039,  0.3412],\n",
       "          [ 0.5529,  0.4667,  0.5137,  ...,  0.3333,  0.2314,  0.1608],\n",
       "          [ 0.5765,  0.5765,  0.5137,  ..., -0.2549, -0.4902, -0.5922]]]]), 'formated_prompt': ['<vision>a photo of 2 cats', '<vision>a photo of 2 dogs']}"
      ]
     },
     "execution_count": 7,
     "metadata": {},
     "output_type": "execute_result"
    }
   ],
   "execution_count": 7
  },
  {
   "metadata": {
    "ExecuteTime": {
     "end_time": "2024-12-29T10:57:24.041009Z",
     "start_time": "2024-12-29T10:57:24.029013Z"
    }
   },
   "cell_type": "code",
   "source": "inputs.pop(\"formated_prompt\")",
   "id": "994abcd201ff1b9d",
   "outputs": [
    {
     "data": {
      "text/plain": [
       "['<vision>a photo of 2 cats', '<vision>a photo of 2 dogs']"
      ]
     },
     "execution_count": 9,
     "metadata": {},
     "output_type": "execute_result"
    }
   ],
   "execution_count": 9
  },
  {
   "metadata": {
    "ExecuteTime": {
     "end_time": "2024-12-29T10:57:30.621404Z",
     "start_time": "2024-12-29T10:57:30.348934Z"
    }
   },
   "cell_type": "code",
   "source": [
    "import torch\n",
    "from torchviz import make_dot\n",
    "from IPython.display import Image\n",
    "\n",
    "# Pass the input through the model\n",
    "outputs = model(**inputs)\n",
    "\n",
    "# Generate and render the graph\n",
    "dot = make_dot(outputs, params=dict(model.named_parameters()))\n",
    "dot.format = 'png'\n",
    "dot.render('model_graph')\n",
    "\n",
    "# Display the graph\n",
    "Image(\"model_graph.png\")"
   ],
   "id": "26afe2f8949ec1a7",
   "outputs": [
    {
     "ename": "ValueError",
     "evalue": "Number of images does not match number of special image tokens in the input text. Got 0 image tokens in the text but 196 tokens from image embeddings.",
     "output_type": "error",
     "traceback": [
      "\u001B[1;31m---------------------------------------------------------------------------\u001B[0m",
      "\u001B[1;31mValueError\u001B[0m                                Traceback (most recent call last)",
      "Cell \u001B[1;32mIn[10], line 6\u001B[0m\n\u001B[0;32m      3\u001B[0m \u001B[38;5;28;01mfrom\u001B[39;00m \u001B[38;5;21;01mIPython\u001B[39;00m\u001B[38;5;21;01m.\u001B[39;00m\u001B[38;5;21;01mdisplay\u001B[39;00m \u001B[38;5;28;01mimport\u001B[39;00m Image\n\u001B[0;32m      5\u001B[0m \u001B[38;5;66;03m# Pass the input through the model\u001B[39;00m\n\u001B[1;32m----> 6\u001B[0m outputs \u001B[38;5;241m=\u001B[39m \u001B[43mmodel\u001B[49m\u001B[43m(\u001B[49m\u001B[38;5;241;43m*\u001B[39;49m\u001B[38;5;241;43m*\u001B[39;49m\u001B[43minputs\u001B[49m\u001B[43m)\u001B[49m\n\u001B[0;32m      8\u001B[0m \u001B[38;5;66;03m# Generate and render the graph\u001B[39;00m\n\u001B[0;32m      9\u001B[0m dot \u001B[38;5;241m=\u001B[39m make_dot(outputs, params\u001B[38;5;241m=\u001B[39m\u001B[38;5;28mdict\u001B[39m(model\u001B[38;5;241m.\u001B[39mnamed_parameters()))\n",
      "File \u001B[1;32m~\\AppData\\Local\\pypoetry\\Cache\\virtualenvs\\bge-gemma-multimodal-a-ly2N-A-py3.12\\Lib\\site-packages\\torch\\nn\\modules\\module.py:1736\u001B[0m, in \u001B[0;36mModule._wrapped_call_impl\u001B[1;34m(self, *args, **kwargs)\u001B[0m\n\u001B[0;32m   1734\u001B[0m     \u001B[38;5;28;01mreturn\u001B[39;00m \u001B[38;5;28mself\u001B[39m\u001B[38;5;241m.\u001B[39m_compiled_call_impl(\u001B[38;5;241m*\u001B[39margs, \u001B[38;5;241m*\u001B[39m\u001B[38;5;241m*\u001B[39mkwargs)  \u001B[38;5;66;03m# type: ignore[misc]\u001B[39;00m\n\u001B[0;32m   1735\u001B[0m \u001B[38;5;28;01melse\u001B[39;00m:\n\u001B[1;32m-> 1736\u001B[0m     \u001B[38;5;28;01mreturn\u001B[39;00m \u001B[38;5;28;43mself\u001B[39;49m\u001B[38;5;241;43m.\u001B[39;49m\u001B[43m_call_impl\u001B[49m\u001B[43m(\u001B[49m\u001B[38;5;241;43m*\u001B[39;49m\u001B[43margs\u001B[49m\u001B[43m,\u001B[49m\u001B[43m \u001B[49m\u001B[38;5;241;43m*\u001B[39;49m\u001B[38;5;241;43m*\u001B[39;49m\u001B[43mkwargs\u001B[49m\u001B[43m)\u001B[49m\n",
      "File \u001B[1;32m~\\AppData\\Local\\pypoetry\\Cache\\virtualenvs\\bge-gemma-multimodal-a-ly2N-A-py3.12\\Lib\\site-packages\\torch\\nn\\modules\\module.py:1747\u001B[0m, in \u001B[0;36mModule._call_impl\u001B[1;34m(self, *args, **kwargs)\u001B[0m\n\u001B[0;32m   1742\u001B[0m \u001B[38;5;66;03m# If we don't have any hooks, we want to skip the rest of the logic in\u001B[39;00m\n\u001B[0;32m   1743\u001B[0m \u001B[38;5;66;03m# this function, and just call forward.\u001B[39;00m\n\u001B[0;32m   1744\u001B[0m \u001B[38;5;28;01mif\u001B[39;00m \u001B[38;5;129;01mnot\u001B[39;00m (\u001B[38;5;28mself\u001B[39m\u001B[38;5;241m.\u001B[39m_backward_hooks \u001B[38;5;129;01mor\u001B[39;00m \u001B[38;5;28mself\u001B[39m\u001B[38;5;241m.\u001B[39m_backward_pre_hooks \u001B[38;5;129;01mor\u001B[39;00m \u001B[38;5;28mself\u001B[39m\u001B[38;5;241m.\u001B[39m_forward_hooks \u001B[38;5;129;01mor\u001B[39;00m \u001B[38;5;28mself\u001B[39m\u001B[38;5;241m.\u001B[39m_forward_pre_hooks\n\u001B[0;32m   1745\u001B[0m         \u001B[38;5;129;01mor\u001B[39;00m _global_backward_pre_hooks \u001B[38;5;129;01mor\u001B[39;00m _global_backward_hooks\n\u001B[0;32m   1746\u001B[0m         \u001B[38;5;129;01mor\u001B[39;00m _global_forward_hooks \u001B[38;5;129;01mor\u001B[39;00m _global_forward_pre_hooks):\n\u001B[1;32m-> 1747\u001B[0m     \u001B[38;5;28;01mreturn\u001B[39;00m \u001B[43mforward_call\u001B[49m\u001B[43m(\u001B[49m\u001B[38;5;241;43m*\u001B[39;49m\u001B[43margs\u001B[49m\u001B[43m,\u001B[49m\u001B[43m \u001B[49m\u001B[38;5;241;43m*\u001B[39;49m\u001B[38;5;241;43m*\u001B[39;49m\u001B[43mkwargs\u001B[49m\u001B[43m)\u001B[49m\n\u001B[0;32m   1749\u001B[0m result \u001B[38;5;241m=\u001B[39m \u001B[38;5;28;01mNone\u001B[39;00m\n\u001B[0;32m   1750\u001B[0m called_always_called_hooks \u001B[38;5;241m=\u001B[39m \u001B[38;5;28mset\u001B[39m()\n",
      "File \u001B[1;32m~\\PycharmProjects\\bge-gemma-multimodal\\bge_gemma2_multimodal\\modeling_bgeGemma2_multimodal.py:225\u001B[0m, in \u001B[0;36mBgeGemma2MultimodalModel.forward\u001B[1;34m(self, input_ids, pixel_values, attention_mask, position_ids, past_key_values, inputs_embeds, labels, use_cache, output_attentions, output_hidden_states, return_dict, cache_position)\u001B[0m\n\u001B[0;32m    223\u001B[0m \u001B[38;5;28;01mif\u001B[39;00m inputs_embeds[special_image_mask]\u001B[38;5;241m.\u001B[39mnumel() \u001B[38;5;241m!=\u001B[39m image_features\u001B[38;5;241m.\u001B[39mnumel():\n\u001B[0;32m    224\u001B[0m     image_tokens_in_text \u001B[38;5;241m=\u001B[39m torch\u001B[38;5;241m.\u001B[39msum(input_ids \u001B[38;5;241m==\u001B[39m \u001B[38;5;28mself\u001B[39m\u001B[38;5;241m.\u001B[39mconfig\u001B[38;5;241m.\u001B[39mimage_token_index)\n\u001B[1;32m--> 225\u001B[0m     \u001B[38;5;28;01mraise\u001B[39;00m \u001B[38;5;167;01mValueError\u001B[39;00m(\n\u001B[0;32m    226\u001B[0m             \u001B[38;5;124mf\u001B[39m\u001B[38;5;124m\"\u001B[39m\u001B[38;5;124mNumber of images does not match number of special image tokens in the input text. \u001B[39m\u001B[38;5;124m\"\u001B[39m\n\u001B[0;32m    227\u001B[0m             \u001B[38;5;124mf\u001B[39m\u001B[38;5;124m\"\u001B[39m\u001B[38;5;124mGot \u001B[39m\u001B[38;5;132;01m{\u001B[39;00mimage_tokens_in_text\u001B[38;5;132;01m}\u001B[39;00m\u001B[38;5;124m image tokens in the text but \u001B[39m\u001B[38;5;132;01m{\u001B[39;00mimage_features\u001B[38;5;241m.\u001B[39mshape[\u001B[38;5;241m0\u001B[39m]\u001B[38;5;250m \u001B[39m\u001B[38;5;241m*\u001B[39m\u001B[38;5;250m \u001B[39mimage_features\u001B[38;5;241m.\u001B[39mshape[\u001B[38;5;241m1\u001B[39m]\u001B[38;5;132;01m}\u001B[39;00m\u001B[38;5;124m \u001B[39m\u001B[38;5;124m\"\u001B[39m\n\u001B[0;32m    228\u001B[0m             \u001B[38;5;124m\"\u001B[39m\u001B[38;5;124mtokens from image embeddings.\u001B[39m\u001B[38;5;124m\"\u001B[39m\n\u001B[0;32m    229\u001B[0m             )\n\u001B[0;32m    230\u001B[0m image_features \u001B[38;5;241m=\u001B[39m image_features\u001B[38;5;241m.\u001B[39mto(inputs_embeds\u001B[38;5;241m.\u001B[39mdevice, inputs_embeds\u001B[38;5;241m.\u001B[39mdtype)\n\u001B[0;32m    231\u001B[0m inputs_embeds \u001B[38;5;241m=\u001B[39m inputs_embeds\u001B[38;5;241m.\u001B[39mmasked_scatter(special_image_mask, image_features)\n",
      "\u001B[1;31mValueError\u001B[0m: Number of images does not match number of special image tokens in the input text. Got 0 image tokens in the text but 196 tokens from image embeddings."
     ]
    }
   ],
   "execution_count": 10
  }
 ],
 "metadata": {
  "kernelspec": {
   "display_name": "Python 3",
   "language": "python",
   "name": "python3"
  },
  "language_info": {
   "codemirror_mode": {
    "name": "ipython",
    "version": 2
   },
   "file_extension": ".py",
   "mimetype": "text/x-python",
   "name": "python",
   "nbconvert_exporter": "python",
   "pygments_lexer": "ipython2",
   "version": "2.7.6"
  }
 },
 "nbformat": 4,
 "nbformat_minor": 5
}
