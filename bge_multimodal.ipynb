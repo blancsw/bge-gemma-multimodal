{
 "cells": [
  {
   "cell_type": "code",
   "id": "initial_id",
   "metadata": {
    "collapsed": true,
    "ExecuteTime": {
     "end_time": "2024-12-26T09:51:07.430855Z",
     "start_time": "2024-12-26T09:50:56.311340Z"
    }
   },
   "source": [
    "from transformers.models.gemma2.configuration_gemma2 import Gemma2Config\n",
    "from transformers.models.siglip import SiglipVisionConfig\n",
    "\n",
    "from bge_gemma2_multimodal import BgeGemma2MultimodalConfig, BgeGemma2MultimodalModel"
   ],
   "outputs": [],
   "execution_count": 1
  },
  {
   "metadata": {
    "ExecuteTime": {
     "end_time": "2024-12-26T09:51:07.941676Z",
     "start_time": "2024-12-26T09:51:07.442586Z"
    }
   },
   "cell_type": "code",
   "source": [
    "text_config = Gemma2Config.from_dict({\n",
    "    \"attention_bias\":          False,\n",
    "    \"attention_dropout\":       0.0,\n",
    "    \"attn_logit_softcapping\":  50.0,\n",
    "    \"bos_token_id\":            2,\n",
    "    \"cache_implementation\":    \"hybrid\",\n",
    "    \"eos_token_id\":            1,\n",
    "    \"final_logit_softcapping\": 30.0,\n",
    "    \"head_dim\":                64,\n",
    "    \"hidden_act\":              \"gelu_pytorch_tanh\",\n",
    "    \"hidden_activation\":       \"gelu_pytorch_tanh\",\n",
    "    \"hidden_size\":             128,\n",
    "    \"initializer_range\":       0.02,\n",
    "    \"intermediate_size\":       128,\n",
    "    \"max_position_embeddings\": 8192,\n",
    "    \"model_type\":              \"gemma2\",\n",
    "    \"num_attention_heads\":     2,\n",
    "    \"num_hidden_layers\":       2,\n",
    "    \"num_key_value_heads\":     2,\n",
    "    \"pad_token_id\":            0,\n",
    "    \"query_pre_attn_scalar\":   64,\n",
    "    \"rms_norm_eps\":            1e-06,\n",
    "    \"rope_theta\":              10000.0,\n",
    "    \"sliding_window\":          256,\n",
    "    \"sliding_window_size\":     256,\n",
    "    \"use_cache\":               False,\n",
    "    \"vocab_size\":              256002\n",
    "    })\n",
    "siglip_model = \"google/siglip-base-patch16-224\"\n",
    "vision_config = SiglipVisionConfig.from_pretrained(siglip_model)"
   ],
   "id": "b8bb12af4360c456",
   "outputs": [],
   "execution_count": 2
  },
  {
   "metadata": {
    "ExecuteTime": {
     "end_time": "2024-12-26T09:51:10.984113Z",
     "start_time": "2024-12-26T09:51:08.081081Z"
    }
   },
   "cell_type": "code",
   "source": [
    "from transformers import AutoProcessor\n",
    "\n",
    "processor = AutoProcessor.from_pretrained(siglip_model)\n",
    "\n",
    "config = BgeGemma2MultimodalConfig(vision_config=vision_config,\n",
    "                                   projection_dim=128,\n",
    "                                   text_config=text_config)\n",
    "model = BgeGemma2MultimodalModel(config)"
   ],
   "id": "43bc3edd79e51ec4",
   "outputs": [],
   "execution_count": 3
  },
  {
   "metadata": {
    "ExecuteTime": {
     "end_time": "2024-12-23T17:17:25.516607Z",
     "start_time": "2024-12-23T17:17:25.467939Z"
    }
   },
   "cell_type": "code",
   "source": "processor",
   "id": "6baa4645c3f8101f",
   "outputs": [
    {
     "data": {
      "text/plain": [
       "SiglipProcessor:\n",
       "- image_processor: SiglipImageProcessor {\n",
       "  \"do_convert_rgb\": null,\n",
       "  \"do_normalize\": true,\n",
       "  \"do_rescale\": true,\n",
       "  \"do_resize\": true,\n",
       "  \"image_mean\": [\n",
       "    0.5,\n",
       "    0.5,\n",
       "    0.5\n",
       "  ],\n",
       "  \"image_processor_type\": \"SiglipImageProcessor\",\n",
       "  \"image_std\": [\n",
       "    0.5,\n",
       "    0.5,\n",
       "    0.5\n",
       "  ],\n",
       "  \"processor_class\": \"SiglipProcessor\",\n",
       "  \"resample\": 3,\n",
       "  \"rescale_factor\": 0.00392156862745098,\n",
       "  \"size\": {\n",
       "    \"height\": 224,\n",
       "    \"width\": 224\n",
       "  }\n",
       "}\n",
       "\n",
       "- tokenizer: SiglipTokenizer(name_or_path='google/siglip-base-patch16-224', vocab_size=32000, model_max_length=64, is_fast=False, padding_side='right', truncation_side='right', special_tokens={'eos_token': '</s>', 'unk_token': '<unk>', 'pad_token': '</s>'}, clean_up_tokenization_spaces=True, added_tokens_decoder={\n",
       "\t1: AddedToken(\"</s>\", rstrip=True, lstrip=True, single_word=False, normalized=False, special=True),\n",
       "\t2: AddedToken(\"<unk>\", rstrip=True, lstrip=True, single_word=False, normalized=False, special=True),\n",
       "}\n",
       ")\n",
       "\n",
       "{\n",
       "  \"processor_class\": \"SiglipProcessor\"\n",
       "}"
      ]
     },
     "execution_count": 6,
     "metadata": {},
     "output_type": "execute_result"
    }
   ],
   "execution_count": 6
  },
  {
   "metadata": {
    "ExecuteTime": {
     "end_time": "2024-12-23T17:19:22.289076Z",
     "start_time": "2024-12-23T17:19:21.249450Z"
    }
   },
   "cell_type": "code",
   "source": [
    "import requests\n",
    "from PIL import Image\n",
    "\n",
    "url = \"http://images.cocodataset.org/val2017/000000039769.jpg\"\n",
    "image = Image.open(requests.get(url, stream=True).raw)\n",
    "\n",
    "texts = [\"a photo of 2 cats\", \"a photo of 2 dogs\"]\n",
    "inputs = processor(text=None, images=image, padding=\"max_length\", return_tensors=\"pt\")\n"
   ],
   "id": "f7e9a3ed22c494ad",
   "outputs": [],
   "execution_count": 7
  },
  {
   "metadata": {
    "ExecuteTime": {
     "end_time": "2024-12-23T17:19:29.339470Z",
     "start_time": "2024-12-23T17:19:29.330501Z"
    }
   },
   "cell_type": "code",
   "source": "inputs",
   "id": "1405d6e762cb2a18",
   "outputs": [
    {
     "data": {
      "text/plain": [
       "{'pixel_values': tensor([[[[ 0.1137,  0.1686,  0.1922,  ..., -0.1922, -0.1843, -0.1922],\n",
       "          [ 0.1373,  0.1686,  0.1843,  ..., -0.1922, -0.1922, -0.2078],\n",
       "          [ 0.1137,  0.1529,  0.1608,  ..., -0.2392, -0.2235, -0.2078],\n",
       "          ...,\n",
       "          [ 0.8431,  0.7882,  0.7255,  ...,  0.7098,  0.6549,  0.6314],\n",
       "          [ 0.8275,  0.7961,  0.7725,  ...,  0.6157,  0.4902,  0.4196],\n",
       "          [ 0.8275,  0.7569,  0.7647,  ...,  0.0275, -0.1059, -0.2471]],\n",
       "\n",
       "         [[-0.8118, -0.8118, -0.8118,  ..., -0.8902, -0.8902, -0.8980],\n",
       "          [-0.7882, -0.7882, -0.7882,  ..., -0.8824, -0.8745, -0.8824],\n",
       "          [-0.8196, -0.8039, -0.7882,  ..., -0.8980, -0.8902, -0.8902],\n",
       "          ...,\n",
       "          [-0.2627, -0.3255, -0.3725,  ..., -0.4196, -0.4510, -0.4745],\n",
       "          [-0.2627, -0.2863, -0.3412,  ..., -0.4667, -0.5373, -0.5686],\n",
       "          [-0.2784, -0.3412, -0.3490,  ..., -0.7569, -0.8039, -0.8588]],\n",
       "\n",
       "         [[-0.5451, -0.4588, -0.4824,  ..., -0.7412, -0.6941, -0.7098],\n",
       "          [-0.5686, -0.5137, -0.4980,  ..., -0.7412, -0.7098, -0.7412],\n",
       "          [-0.5216, -0.4745, -0.4588,  ..., -0.7490, -0.7569, -0.7647],\n",
       "          ...,\n",
       "          [ 0.5686,  0.5608,  0.4353,  ...,  0.4588,  0.4039,  0.3412],\n",
       "          [ 0.5529,  0.4667,  0.5137,  ...,  0.3333,  0.2314,  0.1608],\n",
       "          [ 0.5765,  0.5765,  0.5137,  ..., -0.2549, -0.4902, -0.5922]]]])}"
      ]
     },
     "execution_count": 8,
     "metadata": {},
     "output_type": "execute_result"
    }
   ],
   "execution_count": 8
  },
  {
   "metadata": {
    "ExecuteTime": {
     "end_time": "2024-12-22T21:34:52.214268Z",
     "start_time": "2024-12-22T21:34:51.707033Z"
    }
   },
   "cell_type": "code",
   "source": [
    "import torch\n",
    "from torchviz import make_dot\n",
    "from IPython.display import Image\n",
    "\n",
    "# Simulate input data based on configurations\n",
    "text_input_ids = torch.randint(0, config.text_config.vocab_size, (1, 512))  # Batch size 1, sequence length 512\n",
    "image_pixels = torch.randn(1, 3, 224, 224)  # Batch size 1, channels 3, image size 224x224\n",
    "\n",
    "# Pass the input through the model\n",
    "outputs = model(input_ids=text_input_ids, pixel_values=image_pixels)\n",
    "\n",
    "# Generate and render the graph\n",
    "dot = make_dot(outputs, params=dict(model.named_parameters()))\n",
    "dot.format = 'png'\n",
    "dot.render('model_graph')\n",
    "\n",
    "# Display the graph\n",
    "Image(\"model_graph.png\")"
   ],
   "id": "26afe2f8949ec1a7",
   "outputs": [
    {
     "ename": "ValueError",
     "evalue": "Number of images does not match number of special image tokens in the input text. Got 0 image tokens in the text but 196 tokens from image embeddings.",
     "output_type": "error",
     "traceback": [
      "\u001B[1;31m---------------------------------------------------------------------------\u001B[0m",
      "\u001B[1;31mValueError\u001B[0m                                Traceback (most recent call last)",
      "Cell \u001B[1;32mIn[5], line 10\u001B[0m\n\u001B[0;32m      7\u001B[0m image_pixels \u001B[38;5;241m=\u001B[39m torch\u001B[38;5;241m.\u001B[39mrandn(\u001B[38;5;241m1\u001B[39m, \u001B[38;5;241m3\u001B[39m, \u001B[38;5;241m224\u001B[39m, \u001B[38;5;241m224\u001B[39m)  \u001B[38;5;66;03m# Batch size 1, channels 3, image size 224x224\u001B[39;00m\n\u001B[0;32m      9\u001B[0m \u001B[38;5;66;03m# Pass the input through the model\u001B[39;00m\n\u001B[1;32m---> 10\u001B[0m outputs \u001B[38;5;241m=\u001B[39m \u001B[43mmodel\u001B[49m\u001B[43m(\u001B[49m\u001B[43minput_ids\u001B[49m\u001B[38;5;241;43m=\u001B[39;49m\u001B[43mtext_input_ids\u001B[49m\u001B[43m,\u001B[49m\u001B[43m \u001B[49m\u001B[43mpixel_values\u001B[49m\u001B[38;5;241;43m=\u001B[39;49m\u001B[43mimage_pixels\u001B[49m\u001B[43m)\u001B[49m\n\u001B[0;32m     12\u001B[0m \u001B[38;5;66;03m# Generate and render the graph\u001B[39;00m\n\u001B[0;32m     13\u001B[0m dot \u001B[38;5;241m=\u001B[39m make_dot(outputs, params\u001B[38;5;241m=\u001B[39m\u001B[38;5;28mdict\u001B[39m(model\u001B[38;5;241m.\u001B[39mnamed_parameters()))\n",
      "File \u001B[1;32m~\\AppData\\Local\\pypoetry\\Cache\\virtualenvs\\bge-gemma-multimodal-a-ly2N-A-py3.12\\Lib\\site-packages\\torch\\nn\\modules\\module.py:1736\u001B[0m, in \u001B[0;36mModule._wrapped_call_impl\u001B[1;34m(self, *args, **kwargs)\u001B[0m\n\u001B[0;32m   1734\u001B[0m     \u001B[38;5;28;01mreturn\u001B[39;00m \u001B[38;5;28mself\u001B[39m\u001B[38;5;241m.\u001B[39m_compiled_call_impl(\u001B[38;5;241m*\u001B[39margs, \u001B[38;5;241m*\u001B[39m\u001B[38;5;241m*\u001B[39mkwargs)  \u001B[38;5;66;03m# type: ignore[misc]\u001B[39;00m\n\u001B[0;32m   1735\u001B[0m \u001B[38;5;28;01melse\u001B[39;00m:\n\u001B[1;32m-> 1736\u001B[0m     \u001B[38;5;28;01mreturn\u001B[39;00m \u001B[38;5;28;43mself\u001B[39;49m\u001B[38;5;241;43m.\u001B[39;49m\u001B[43m_call_impl\u001B[49m\u001B[43m(\u001B[49m\u001B[38;5;241;43m*\u001B[39;49m\u001B[43margs\u001B[49m\u001B[43m,\u001B[49m\u001B[43m \u001B[49m\u001B[38;5;241;43m*\u001B[39;49m\u001B[38;5;241;43m*\u001B[39;49m\u001B[43mkwargs\u001B[49m\u001B[43m)\u001B[49m\n",
      "File \u001B[1;32m~\\AppData\\Local\\pypoetry\\Cache\\virtualenvs\\bge-gemma-multimodal-a-ly2N-A-py3.12\\Lib\\site-packages\\torch\\nn\\modules\\module.py:1747\u001B[0m, in \u001B[0;36mModule._call_impl\u001B[1;34m(self, *args, **kwargs)\u001B[0m\n\u001B[0;32m   1742\u001B[0m \u001B[38;5;66;03m# If we don't have any hooks, we want to skip the rest of the logic in\u001B[39;00m\n\u001B[0;32m   1743\u001B[0m \u001B[38;5;66;03m# this function, and just call forward.\u001B[39;00m\n\u001B[0;32m   1744\u001B[0m \u001B[38;5;28;01mif\u001B[39;00m \u001B[38;5;129;01mnot\u001B[39;00m (\u001B[38;5;28mself\u001B[39m\u001B[38;5;241m.\u001B[39m_backward_hooks \u001B[38;5;129;01mor\u001B[39;00m \u001B[38;5;28mself\u001B[39m\u001B[38;5;241m.\u001B[39m_backward_pre_hooks \u001B[38;5;129;01mor\u001B[39;00m \u001B[38;5;28mself\u001B[39m\u001B[38;5;241m.\u001B[39m_forward_hooks \u001B[38;5;129;01mor\u001B[39;00m \u001B[38;5;28mself\u001B[39m\u001B[38;5;241m.\u001B[39m_forward_pre_hooks\n\u001B[0;32m   1745\u001B[0m         \u001B[38;5;129;01mor\u001B[39;00m _global_backward_pre_hooks \u001B[38;5;129;01mor\u001B[39;00m _global_backward_hooks\n\u001B[0;32m   1746\u001B[0m         \u001B[38;5;129;01mor\u001B[39;00m _global_forward_hooks \u001B[38;5;129;01mor\u001B[39;00m _global_forward_pre_hooks):\n\u001B[1;32m-> 1747\u001B[0m     \u001B[38;5;28;01mreturn\u001B[39;00m \u001B[43mforward_call\u001B[49m\u001B[43m(\u001B[49m\u001B[38;5;241;43m*\u001B[39;49m\u001B[43margs\u001B[49m\u001B[43m,\u001B[49m\u001B[43m \u001B[49m\u001B[38;5;241;43m*\u001B[39;49m\u001B[38;5;241;43m*\u001B[39;49m\u001B[43mkwargs\u001B[49m\u001B[43m)\u001B[49m\n\u001B[0;32m   1749\u001B[0m result \u001B[38;5;241m=\u001B[39m \u001B[38;5;28;01mNone\u001B[39;00m\n\u001B[0;32m   1750\u001B[0m called_always_called_hooks \u001B[38;5;241m=\u001B[39m \u001B[38;5;28mset\u001B[39m()\n",
      "File \u001B[1;32m~\\PycharmProjects\\bge-gemma-multimodal\\bge_gemma2_multimodal\\modeling_bgeGemma2_multimodal.py:225\u001B[0m, in \u001B[0;36mBgeGemma2MultimodalModel.forward\u001B[1;34m(self, input_ids, pixel_values, attention_mask, position_ids, past_key_values, inputs_embeds, labels, use_cache, output_attentions, output_hidden_states, return_dict, cache_position)\u001B[0m\n\u001B[0;32m    223\u001B[0m \u001B[38;5;28;01mif\u001B[39;00m inputs_embeds[special_image_mask]\u001B[38;5;241m.\u001B[39mnumel() \u001B[38;5;241m!=\u001B[39m image_features\u001B[38;5;241m.\u001B[39mnumel():\n\u001B[0;32m    224\u001B[0m     image_tokens_in_text \u001B[38;5;241m=\u001B[39m torch\u001B[38;5;241m.\u001B[39msum(input_ids \u001B[38;5;241m==\u001B[39m \u001B[38;5;28mself\u001B[39m\u001B[38;5;241m.\u001B[39mconfig\u001B[38;5;241m.\u001B[39mimage_token_index)\n\u001B[1;32m--> 225\u001B[0m     \u001B[38;5;28;01mraise\u001B[39;00m \u001B[38;5;167;01mValueError\u001B[39;00m(\n\u001B[0;32m    226\u001B[0m             \u001B[38;5;124mf\u001B[39m\u001B[38;5;124m\"\u001B[39m\u001B[38;5;124mNumber of images does not match number of special image tokens in the input text. \u001B[39m\u001B[38;5;124m\"\u001B[39m\n\u001B[0;32m    227\u001B[0m             \u001B[38;5;124mf\u001B[39m\u001B[38;5;124m\"\u001B[39m\u001B[38;5;124mGot \u001B[39m\u001B[38;5;132;01m{\u001B[39;00mimage_tokens_in_text\u001B[38;5;132;01m}\u001B[39;00m\u001B[38;5;124m image tokens in the text but \u001B[39m\u001B[38;5;132;01m{\u001B[39;00mimage_features\u001B[38;5;241m.\u001B[39mshape[\u001B[38;5;241m0\u001B[39m]\u001B[38;5;250m \u001B[39m\u001B[38;5;241m*\u001B[39m\u001B[38;5;250m \u001B[39mimage_features\u001B[38;5;241m.\u001B[39mshape[\u001B[38;5;241m1\u001B[39m]\u001B[38;5;132;01m}\u001B[39;00m\u001B[38;5;124m \u001B[39m\u001B[38;5;124m\"\u001B[39m\n\u001B[0;32m    228\u001B[0m             \u001B[38;5;124m\"\u001B[39m\u001B[38;5;124mtokens from image embeddings.\u001B[39m\u001B[38;5;124m\"\u001B[39m\n\u001B[0;32m    229\u001B[0m             )\n\u001B[0;32m    230\u001B[0m image_features \u001B[38;5;241m=\u001B[39m image_features\u001B[38;5;241m.\u001B[39mto(inputs_embeds\u001B[38;5;241m.\u001B[39mdevice, inputs_embeds\u001B[38;5;241m.\u001B[39mdtype)\n\u001B[0;32m    231\u001B[0m inputs_embeds \u001B[38;5;241m=\u001B[39m inputs_embeds\u001B[38;5;241m.\u001B[39mmasked_scatter(special_image_mask, image_features)\n",
      "\u001B[1;31mValueError\u001B[0m: Number of images does not match number of special image tokens in the input text. Got 0 image tokens in the text but 196 tokens from image embeddings."
     ]
    }
   ],
   "execution_count": 5
  },
  {
   "metadata": {
    "ExecuteTime": {
     "end_time": "2024-12-23T17:23:37.844069Z",
     "start_time": "2024-12-23T17:23:33.563038Z"
    }
   },
   "cell_type": "code",
   "source": [
    "from PIL import Image\n",
    "import requests\n",
    "from transformers import AutoProcessor, AutoModel\n",
    "import torch\n",
    "\n",
    "model = AutoModel.from_pretrained(\"google/siglip-base-patch16-224\")\n",
    "processor = AutoProcessor.from_pretrained(\"google/siglip-base-patch16-224\")\n",
    "\n",
    "url = \"http://images.cocodataset.org/val2017/000000039769.jpg\"\n",
    "image = Image.open(requests.get(url, stream=True).raw)\n",
    "\n",
    "texts = [\"a photo of 2 cats\", \"a photo of 2 dogs\"]\n",
    "inputs = processor(text=texts, images=image, padding=\"max_length\", return_tensors=\"pt\")\n",
    "\n",
    "with torch.no_grad():\n",
    "    outputs = model(**inputs)\n",
    "\n",
    "logits_per_image = outputs.logits_per_image\n",
    "probs = torch.sigmoid(logits_per_image) # these are the probabilities\n",
    "print(f\"{probs[0][0]:.1%} that image 0 is '{texts[0]}'\")\n"
   ],
   "id": "564414b729837323",
   "outputs": [
    {
     "name": "stdout",
     "output_type": "stream",
     "text": [
      "31.9% that image 0 is 'a photo of 2 cats'\n"
     ]
    }
   ],
   "execution_count": 10
  }
 ],
 "metadata": {
  "kernelspec": {
   "display_name": "Python 3",
   "language": "python",
   "name": "python3"
  },
  "language_info": {
   "codemirror_mode": {
    "name": "ipython",
    "version": 2
   },
   "file_extension": ".py",
   "mimetype": "text/x-python",
   "name": "python",
   "nbconvert_exporter": "python",
   "pygments_lexer": "ipython2",
   "version": "2.7.6"
  }
 },
 "nbformat": 4,
 "nbformat_minor": 5
}
